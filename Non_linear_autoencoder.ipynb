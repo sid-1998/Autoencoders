{
 "cells": [
  {
   "cell_type": "code",
   "execution_count": 1,
   "metadata": {},
   "outputs": [
    {
     "name": "stderr",
     "output_type": "stream",
     "text": [
      "Using TensorFlow backend.\n"
     ]
    }
   ],
   "source": [
    "import numpy as np\n",
    "import pandas as pd\n",
    "import matplotlib.pyplot as plt\n",
    "from keras.layers import Dense, Activation, Input\n",
    "from keras.models import Model\n"
   ]
  },
  {
   "cell_type": "code",
   "execution_count": 2,
   "metadata": {},
   "outputs": [
    {
     "data": {
      "text/html": [
       "<div>\n",
       "<style scoped>\n",
       "    .dataframe tbody tr th:only-of-type {\n",
       "        vertical-align: middle;\n",
       "    }\n",
       "\n",
       "    .dataframe tbody tr th {\n",
       "        vertical-align: top;\n",
       "    }\n",
       "\n",
       "    .dataframe thead th {\n",
       "        text-align: right;\n",
       "    }\n",
       "</style>\n",
       "<table border=\"1\" class=\"dataframe\">\n",
       "  <thead>\n",
       "    <tr style=\"text-align: right;\">\n",
       "      <th></th>\n",
       "      <th>label</th>\n",
       "      <th>pixel0</th>\n",
       "      <th>pixel1</th>\n",
       "      <th>pixel2</th>\n",
       "      <th>pixel3</th>\n",
       "      <th>pixel4</th>\n",
       "      <th>pixel5</th>\n",
       "      <th>pixel6</th>\n",
       "      <th>pixel7</th>\n",
       "      <th>pixel8</th>\n",
       "      <th>...</th>\n",
       "      <th>pixel774</th>\n",
       "      <th>pixel775</th>\n",
       "      <th>pixel776</th>\n",
       "      <th>pixel777</th>\n",
       "      <th>pixel778</th>\n",
       "      <th>pixel779</th>\n",
       "      <th>pixel780</th>\n",
       "      <th>pixel781</th>\n",
       "      <th>pixel782</th>\n",
       "      <th>pixel783</th>\n",
       "    </tr>\n",
       "  </thead>\n",
       "  <tbody>\n",
       "    <tr>\n",
       "      <th>0</th>\n",
       "      <td>1</td>\n",
       "      <td>0</td>\n",
       "      <td>0</td>\n",
       "      <td>0</td>\n",
       "      <td>0</td>\n",
       "      <td>0</td>\n",
       "      <td>0</td>\n",
       "      <td>0</td>\n",
       "      <td>0</td>\n",
       "      <td>0</td>\n",
       "      <td>...</td>\n",
       "      <td>0</td>\n",
       "      <td>0</td>\n",
       "      <td>0</td>\n",
       "      <td>0</td>\n",
       "      <td>0</td>\n",
       "      <td>0</td>\n",
       "      <td>0</td>\n",
       "      <td>0</td>\n",
       "      <td>0</td>\n",
       "      <td>0</td>\n",
       "    </tr>\n",
       "    <tr>\n",
       "      <th>1</th>\n",
       "      <td>0</td>\n",
       "      <td>0</td>\n",
       "      <td>0</td>\n",
       "      <td>0</td>\n",
       "      <td>0</td>\n",
       "      <td>0</td>\n",
       "      <td>0</td>\n",
       "      <td>0</td>\n",
       "      <td>0</td>\n",
       "      <td>0</td>\n",
       "      <td>...</td>\n",
       "      <td>0</td>\n",
       "      <td>0</td>\n",
       "      <td>0</td>\n",
       "      <td>0</td>\n",
       "      <td>0</td>\n",
       "      <td>0</td>\n",
       "      <td>0</td>\n",
       "      <td>0</td>\n",
       "      <td>0</td>\n",
       "      <td>0</td>\n",
       "    </tr>\n",
       "    <tr>\n",
       "      <th>2</th>\n",
       "      <td>1</td>\n",
       "      <td>0</td>\n",
       "      <td>0</td>\n",
       "      <td>0</td>\n",
       "      <td>0</td>\n",
       "      <td>0</td>\n",
       "      <td>0</td>\n",
       "      <td>0</td>\n",
       "      <td>0</td>\n",
       "      <td>0</td>\n",
       "      <td>...</td>\n",
       "      <td>0</td>\n",
       "      <td>0</td>\n",
       "      <td>0</td>\n",
       "      <td>0</td>\n",
       "      <td>0</td>\n",
       "      <td>0</td>\n",
       "      <td>0</td>\n",
       "      <td>0</td>\n",
       "      <td>0</td>\n",
       "      <td>0</td>\n",
       "    </tr>\n",
       "    <tr>\n",
       "      <th>3</th>\n",
       "      <td>4</td>\n",
       "      <td>0</td>\n",
       "      <td>0</td>\n",
       "      <td>0</td>\n",
       "      <td>0</td>\n",
       "      <td>0</td>\n",
       "      <td>0</td>\n",
       "      <td>0</td>\n",
       "      <td>0</td>\n",
       "      <td>0</td>\n",
       "      <td>...</td>\n",
       "      <td>0</td>\n",
       "      <td>0</td>\n",
       "      <td>0</td>\n",
       "      <td>0</td>\n",
       "      <td>0</td>\n",
       "      <td>0</td>\n",
       "      <td>0</td>\n",
       "      <td>0</td>\n",
       "      <td>0</td>\n",
       "      <td>0</td>\n",
       "    </tr>\n",
       "    <tr>\n",
       "      <th>4</th>\n",
       "      <td>0</td>\n",
       "      <td>0</td>\n",
       "      <td>0</td>\n",
       "      <td>0</td>\n",
       "      <td>0</td>\n",
       "      <td>0</td>\n",
       "      <td>0</td>\n",
       "      <td>0</td>\n",
       "      <td>0</td>\n",
       "      <td>0</td>\n",
       "      <td>...</td>\n",
       "      <td>0</td>\n",
       "      <td>0</td>\n",
       "      <td>0</td>\n",
       "      <td>0</td>\n",
       "      <td>0</td>\n",
       "      <td>0</td>\n",
       "      <td>0</td>\n",
       "      <td>0</td>\n",
       "      <td>0</td>\n",
       "      <td>0</td>\n",
       "    </tr>\n",
       "  </tbody>\n",
       "</table>\n",
       "<p>5 rows × 785 columns</p>\n",
       "</div>"
      ],
      "text/plain": [
       "   label  pixel0  pixel1  pixel2  pixel3  pixel4  pixel5  pixel6  pixel7  \\\n",
       "0      1       0       0       0       0       0       0       0       0   \n",
       "1      0       0       0       0       0       0       0       0       0   \n",
       "2      1       0       0       0       0       0       0       0       0   \n",
       "3      4       0       0       0       0       0       0       0       0   \n",
       "4      0       0       0       0       0       0       0       0       0   \n",
       "\n",
       "   pixel8    ...     pixel774  pixel775  pixel776  pixel777  pixel778  \\\n",
       "0       0    ...            0         0         0         0         0   \n",
       "1       0    ...            0         0         0         0         0   \n",
       "2       0    ...            0         0         0         0         0   \n",
       "3       0    ...            0         0         0         0         0   \n",
       "4       0    ...            0         0         0         0         0   \n",
       "\n",
       "   pixel779  pixel780  pixel781  pixel782  pixel783  \n",
       "0         0         0         0         0         0  \n",
       "1         0         0         0         0         0  \n",
       "2         0         0         0         0         0  \n",
       "3         0         0         0         0         0  \n",
       "4         0         0         0         0         0  \n",
       "\n",
       "[5 rows x 785 columns]"
      ]
     },
     "execution_count": 2,
     "metadata": {},
     "output_type": "execute_result"
    }
   ],
   "source": [
    "ds = pd.read_csv('/home/siddharth/ML/Data_set/train.csv')\n",
    "ds.head()"
   ]
  },
  {
   "cell_type": "code",
   "execution_count": 10,
   "metadata": {},
   "outputs": [
    {
     "data": {
      "text/plain": [
       "(42000, 785)"
      ]
     },
     "execution_count": 10,
     "metadata": {},
     "output_type": "execute_result"
    }
   ],
   "source": [
    "ds.shape"
   ]
  },
  {
   "cell_type": "code",
   "execution_count": 3,
   "metadata": {},
   "outputs": [
    {
     "name": "stdout",
     "output_type": "stream",
     "text": [
      "(8000, 784)\n"
     ]
    }
   ],
   "source": [
    "data = ds.values[:8000, 1:]\n",
    "print(data.shape)"
   ]
  },
  {
   "cell_type": "code",
   "execution_count": 4,
   "metadata": {},
   "outputs": [
    {
     "name": "stdout",
     "output_type": "stream",
     "text": [
      "_________________________________________________________________\n",
      "Layer (type)                 Output Shape              Param #   \n",
      "=================================================================\n",
      "input_1 (InputLayer)         (None, 784)               0         \n",
      "_________________________________________________________________\n",
      "dense_1 (Dense)              (None, 100)               78500     \n",
      "_________________________________________________________________\n",
      "activation_1 (Activation)    (None, 100)               0         \n",
      "_________________________________________________________________\n",
      "dense_2 (Dense)              (None, 784)               79184     \n",
      "_________________________________________________________________\n",
      "activation_2 (Activation)    (None, 784)               0         \n",
      "=================================================================\n",
      "Total params: 157,684\n",
      "Trainable params: 157,684\n",
      "Non-trainable params: 0\n",
      "_________________________________________________________________\n"
     ]
    }
   ],
   "source": [
    "inp = Input(shape=(784,))\n",
    "h1 = Dense(100)##first hidden layer\n",
    "a1 = Activation('sigmoid')\n",
    "h2 = Dense(784)##second hidden layer(here it is the output layer)\n",
    "a2 = Activation('sigmoid')\n",
    "out = a2(h2(a1(h1(inp))))\n",
    "\n",
    "model = Model(inputs=[inp], outputs=[out])\n",
    "model.summary()"
   ]
  },
  {
   "cell_type": "code",
   "execution_count": 5,
   "metadata": {},
   "outputs": [],
   "source": [
    "model.compile(loss='MSE', optimizer='adam', metrics=['accuracy'])"
   ]
  },
  {
   "cell_type": "code",
   "execution_count": 6,
   "metadata": {},
   "outputs": [
    {
     "name": "stdout",
     "output_type": "stream",
     "text": [
      "(6400, 784) (6400, 784)\n"
     ]
    }
   ],
   "source": [
    "split = int(0.8*data.shape[0])\n",
    "X_train = data[:split]/255.0\n",
    "Y_train = data[:split]/255.0\n",
    "\n",
    "X_test = data[split:]/255.0\n",
    "Y_test = data[split:]/255.0\n",
    "\n",
    "print(X_train.shape, Y_train.shape)"
   ]
  },
  {
   "cell_type": "code",
   "execution_count": 7,
   "metadata": {
    "scrolled": true
   },
   "outputs": [
    {
     "name": "stdout",
     "output_type": "stream",
     "text": [
      "Train on 6400 samples, validate on 1600 samples\n",
      "Epoch 1/60\n",
      "6400/6400 [==============================] - 3s 482us/step - loss: 0.0620 - acc: 0.0133 - val_loss: 0.0461 - val_acc: 0.0169\n",
      "Epoch 2/60\n",
      "6400/6400 [==============================] - 2s 381us/step - loss: 0.0389 - acc: 0.0142 - val_loss: 0.0331 - val_acc: 0.0119\n",
      "Epoch 3/60\n",
      "6400/6400 [==============================] - 2s 380us/step - loss: 0.0295 - acc: 0.0109 - val_loss: 0.0263 - val_acc: 0.0125\n",
      "Epoch 4/60\n",
      "6400/6400 [==============================] - 2s 374us/step - loss: 0.0240 - acc: 0.0116 - val_loss: 0.0220 - val_acc: 0.0119\n",
      "Epoch 5/60\n",
      "6400/6400 [==============================] - 2s 376us/step - loss: 0.0202 - acc: 0.0103 - val_loss: 0.0189 - val_acc: 0.0131\n",
      "Epoch 6/60\n",
      "6400/6400 [==============================] - 2s 378us/step - loss: 0.0174 - acc: 0.0081 - val_loss: 0.0165 - val_acc: 0.0150\n",
      "Epoch 7/60\n",
      "6400/6400 [==============================] - 3s 394us/step - loss: 0.0152 - acc: 0.0089 - val_loss: 0.0147 - val_acc: 0.0131\n",
      "Epoch 8/60\n",
      "6400/6400 [==============================] - 3s 423us/step - loss: 0.0134 - acc: 0.0111 - val_loss: 0.0132 - val_acc: 0.0125\n",
      "Epoch 9/60\n",
      "6400/6400 [==============================] - 3s 426us/step - loss: 0.0121 - acc: 0.0102 - val_loss: 0.0120 - val_acc: 0.0144\n",
      "Epoch 10/60\n",
      "6400/6400 [==============================] - 3s 395us/step - loss: 0.0109 - acc: 0.0105 - val_loss: 0.0110 - val_acc: 0.0125\n",
      "Epoch 11/60\n",
      "6400/6400 [==============================] - 3s 402us/step - loss: 0.0100 - acc: 0.0103 - val_loss: 0.0102 - val_acc: 0.0131\n",
      "Epoch 12/60\n",
      "6400/6400 [==============================] - 3s 404us/step - loss: 0.0091 - acc: 0.0100 - val_loss: 0.0095 - val_acc: 0.0150\n",
      "Epoch 13/60\n",
      "6400/6400 [==============================] - 3s 395us/step - loss: 0.0084 - acc: 0.0114 - val_loss: 0.0088 - val_acc: 0.0156\n",
      "Epoch 14/60\n",
      "6400/6400 [==============================] - 3s 400us/step - loss: 0.0078 - acc: 0.0127 - val_loss: 0.0083 - val_acc: 0.0131\n",
      "Epoch 15/60\n",
      "6400/6400 [==============================] - 3s 409us/step - loss: 0.0073 - acc: 0.0120 - val_loss: 0.0078 - val_acc: 0.0144\n",
      "Epoch 16/60\n",
      "6400/6400 [==============================] - 3s 394us/step - loss: 0.0068 - acc: 0.0125 - val_loss: 0.0074 - val_acc: 0.0138\n",
      "Epoch 17/60\n",
      "6400/6400 [==============================] - 2s 380us/step - loss: 0.0064 - acc: 0.0131 - val_loss: 0.0070 - val_acc: 0.0138\n",
      "Epoch 18/60\n",
      "6400/6400 [==============================] - 2s 348us/step - loss: 0.0060 - acc: 0.0117 - val_loss: 0.0067 - val_acc: 0.0144\n",
      "Epoch 19/60\n",
      "6400/6400 [==============================] - 2s 357us/step - loss: 0.0057 - acc: 0.0106 - val_loss: 0.0064 - val_acc: 0.0169\n",
      "Epoch 20/60\n",
      "6400/6400 [==============================] - 2s 389us/step - loss: 0.0054 - acc: 0.0133 - val_loss: 0.0061 - val_acc: 0.0138\n",
      "Epoch 21/60\n",
      "6400/6400 [==============================] - 2s 383us/step - loss: 0.0051 - acc: 0.0128 - val_loss: 0.0059 - val_acc: 0.0156\n",
      "Epoch 22/60\n",
      "6400/6400 [==============================] - 3s 391us/step - loss: 0.0049 - acc: 0.0122 - val_loss: 0.0058 - val_acc: 0.0144\n",
      "Epoch 23/60\n",
      "6400/6400 [==============================] - 2s 386us/step - loss: 0.0047 - acc: 0.0133 - val_loss: 0.0056 - val_acc: 0.0119\n",
      "Epoch 24/60\n",
      "6400/6400 [==============================] - 3s 402us/step - loss: 0.0045 - acc: 0.0130 - val_loss: 0.0054 - val_acc: 0.0150\n",
      "Epoch 25/60\n",
      "6400/6400 [==============================] - 3s 427us/step - loss: 0.0043 - acc: 0.0123 - val_loss: 0.0052 - val_acc: 0.0119\n",
      "Epoch 26/60\n",
      "6400/6400 [==============================] - 2s 382us/step - loss: 0.0042 - acc: 0.0123 - val_loss: 0.0051 - val_acc: 0.0106\n",
      "Epoch 27/60\n",
      "6400/6400 [==============================] - 2s 327us/step - loss: 0.0040 - acc: 0.0123 - val_loss: 0.0050 - val_acc: 0.0144\n",
      "Epoch 28/60\n",
      "6400/6400 [==============================] - 2s 389us/step - loss: 0.0039 - acc: 0.0131 - val_loss: 0.0049 - val_acc: 0.0125\n",
      "Epoch 29/60\n",
      "6400/6400 [==============================] - 2s 379us/step - loss: 0.0038 - acc: 0.0114 - val_loss: 0.0048 - val_acc: 0.0119\n",
      "Epoch 30/60\n",
      "6400/6400 [==============================] - 3s 392us/step - loss: 0.0037 - acc: 0.0128 - val_loss: 0.0047 - val_acc: 0.0094\n",
      "Epoch 31/60\n",
      "6400/6400 [==============================] - 3s 411us/step - loss: 0.0036 - acc: 0.0113 - val_loss: 0.0046 - val_acc: 0.0119\n",
      "Epoch 32/60\n",
      "6400/6400 [==============================] - 3s 420us/step - loss: 0.0035 - acc: 0.0127 - val_loss: 0.0046 - val_acc: 0.0112\n",
      "Epoch 33/60\n",
      "6400/6400 [==============================] - 3s 397us/step - loss: 0.0034 - acc: 0.0116 - val_loss: 0.0045 - val_acc: 0.0088\n",
      "Epoch 34/60\n",
      "6400/6400 [==============================] - 2s 335us/step - loss: 0.0034 - acc: 0.0119 - val_loss: 0.0045 - val_acc: 0.0131\n",
      "Epoch 35/60\n",
      "6400/6400 [==============================] - 2s 388us/step - loss: 0.0033 - acc: 0.0123 - val_loss: 0.0044 - val_acc: 0.0144\n",
      "Epoch 36/60\n",
      "6400/6400 [==============================] - 2s 391us/step - loss: 0.0032 - acc: 0.0125 - val_loss: 0.0044 - val_acc: 0.0119\n",
      "Epoch 37/60\n",
      "6400/6400 [==============================] - 3s 397us/step - loss: 0.0032 - acc: 0.0125 - val_loss: 0.0042 - val_acc: 0.0125\n",
      "Epoch 38/60\n",
      "6400/6400 [==============================] - 2s 375us/step - loss: 0.0031 - acc: 0.0144 - val_loss: 0.0042 - val_acc: 0.0106\n",
      "Epoch 39/60\n",
      "6400/6400 [==============================] - 2s 386us/step - loss: 0.0031 - acc: 0.0119 - val_loss: 0.0041 - val_acc: 0.0100\n",
      "Epoch 40/60\n",
      "6400/6400 [==============================] - 3s 405us/step - loss: 0.0030 - acc: 0.0133 - val_loss: 0.0041 - val_acc: 0.0150\n",
      "Epoch 41/60\n",
      "6400/6400 [==============================] - 3s 413us/step - loss: 0.0030 - acc: 0.0131 - val_loss: 0.0041 - val_acc: 0.0138\n",
      "Epoch 42/60\n",
      "6400/6400 [==============================] - 3s 393us/step - loss: 0.0029 - acc: 0.0131 - val_loss: 0.0041 - val_acc: 0.0163\n",
      "Epoch 43/60\n",
      "6400/6400 [==============================] - 2s 390us/step - loss: 0.0029 - acc: 0.0144 - val_loss: 0.0040 - val_acc: 0.0138\n",
      "Epoch 44/60\n",
      "6400/6400 [==============================] - 3s 391us/step - loss: 0.0029 - acc: 0.0123 - val_loss: 0.0040 - val_acc: 0.0150\n",
      "Epoch 45/60\n",
      "6400/6400 [==============================] - 3s 452us/step - loss: 0.0028 - acc: 0.0120 - val_loss: 0.0040 - val_acc: 0.0150\n",
      "Epoch 46/60\n",
      "6400/6400 [==============================] - 3s 426us/step - loss: 0.0028 - acc: 0.0130 - val_loss: 0.0040 - val_acc: 0.0125\n",
      "Epoch 47/60\n",
      "6400/6400 [==============================] - 3s 489us/step - loss: 0.0028 - acc: 0.0138 - val_loss: 0.0039 - val_acc: 0.0138\n",
      "Epoch 48/60\n",
      "6400/6400 [==============================] - 3s 439us/step - loss: 0.0027 - acc: 0.0116 - val_loss: 0.0039 - val_acc: 0.0150\n",
      "Epoch 49/60\n",
      "6400/6400 [==============================] - 3s 421us/step - loss: 0.0027 - acc: 0.0128 - val_loss: 0.0039 - val_acc: 0.0150\n",
      "Epoch 50/60\n",
      "6400/6400 [==============================] - 3s 410us/step - loss: 0.0027 - acc: 0.0141 - val_loss: 0.0038 - val_acc: 0.0112\n",
      "Epoch 51/60\n",
      "6400/6400 [==============================] - 3s 417us/step - loss: 0.0027 - acc: 0.0125 - val_loss: 0.0038 - val_acc: 0.0125\n",
      "Epoch 52/60\n",
      "6400/6400 [==============================] - 3s 404us/step - loss: 0.0026 - acc: 0.0128 - val_loss: 0.0039 - val_acc: 0.0156\n",
      "Epoch 53/60\n",
      "6400/6400 [==============================] - 3s 402us/step - loss: 0.0026 - acc: 0.0116 - val_loss: 0.0038 - val_acc: 0.0112\n",
      "Epoch 54/60\n",
      "6400/6400 [==============================] - 3s 393us/step - loss: 0.0026 - acc: 0.0113 - val_loss: 0.0038 - val_acc: 0.0156\n",
      "Epoch 55/60\n",
      "6400/6400 [==============================] - 3s 393us/step - loss: 0.0026 - acc: 0.0130 - val_loss: 0.0038 - val_acc: 0.0131\n",
      "Epoch 56/60\n",
      "6400/6400 [==============================] - 3s 399us/step - loss: 0.0025 - acc: 0.0123 - val_loss: 0.0037 - val_acc: 0.0138\n",
      "Epoch 57/60\n",
      "6400/6400 [==============================] - 2s 386us/step - loss: 0.0025 - acc: 0.0138 - val_loss: 0.0037 - val_acc: 0.0131\n",
      "Epoch 58/60\n",
      "6400/6400 [==============================] - 2s 391us/step - loss: 0.0025 - acc: 0.0119 - val_loss: 0.0037 - val_acc: 0.0144\n",
      "Epoch 59/60\n",
      "6400/6400 [==============================] - 2s 386us/step - loss: 0.0025 - acc: 0.0128 - val_loss: 0.0037 - val_acc: 0.0144\n",
      "Epoch 60/60\n"
     ]
    },
    {
     "name": "stdout",
     "output_type": "stream",
     "text": [
      "6400/6400 [==============================] - 2s 377us/step - loss: 0.0025 - acc: 0.0120 - val_loss: 0.0037 - val_acc: 0.0131\n"
     ]
    },
    {
     "data": {
      "text/plain": [
       "<keras.callbacks.History at 0x7ff3a41d1eb8>"
      ]
     },
     "execution_count": 7,
     "metadata": {},
     "output_type": "execute_result"
    }
   ],
   "source": [
    "model.fit(X_train, Y_train, batch_size=8, epochs=60, validation_data=[X_test, Y_test])"
   ]
  },
  {
   "cell_type": "code",
   "execution_count": 28,
   "metadata": {
    "scrolled": true
   },
   "outputs": [
    {
     "data": {
      "image/png": "[encoded data removed]",
      "text/plain": [
       "<Figure size 432x288 with 1 Axes>"
      ]
     },
     "metadata": {},
     "output_type": "display_data"
    },
    {
     "data": {
      "image/png": "[encoded data removed]",
      "text/plain": [
       "<Figure size 432x288 with 1 Axes>"
      ]
     },
     "metadata": {},
     "output_type": "display_data"
    }
   ],
   "source": [
    "sample = X_train[78]\n",
    "plt.imshow(sample.reshape((28,28)), cmap='gray')\n",
    "plt.show()\n",
    "\n",
    "model.predict(X_train)\n",
    "plt.imshow(X_train[78].reshape((28,28)), cmap='gray')\n",
    "plt.show()"
   ]
  },
  {
   "cell_type": "code",
   "execution_count": 8,
   "metadata": {},
   "outputs": [
    {
     "name": "stdout",
     "output_type": "stream",
     "text": [
      "_________________________________________________________________\n",
      "Layer (type)                 Output Shape              Param #   \n",
      "=================================================================\n",
      "input_2 (InputLayer)         (None, 784)               0         \n",
      "_________________________________________________________________\n",
      "dense_1 (Dense)              (None, 100)               78500     \n",
      "_________________________________________________________________\n",
      "activation_1 (Activation)    (None, 100)               0         \n",
      "=================================================================\n",
      "Total params: 78,500\n",
      "Trainable params: 78,500\n",
      "Non-trainable params: 0\n",
      "_________________________________________________________________\n"
     ]
    }
   ],
   "source": [
    "##Encoder layer\n",
    "inp = Input(shape=(784,))\n",
    "enc_out = a1(h1(inp))\n",
    "encoder = Model(inputs=[inp], outputs=[enc_out])\n",
    "\n",
    "encoder.summary()"
   ]
  },
  {
   "cell_type": "code",
   "execution_count": 9,
   "metadata": {},
   "outputs": [
    {
     "name": "stdout",
     "output_type": "stream",
     "text": [
      "_________________________________________________________________\n",
      "Layer (type)                 Output Shape              Param #   \n",
      "=================================================================\n",
      "input_3 (InputLayer)         (None, 100)               0         \n",
      "_________________________________________________________________\n",
      "dense_2 (Dense)              (None, 784)               79184     \n",
      "_________________________________________________________________\n",
      "activation_2 (Activation)    (None, 784)               0         \n",
      "=================================================================\n",
      "Total params: 79,184\n",
      "Trainable params: 79,184\n",
      "Non-trainable params: 0\n",
      "_________________________________________________________________\n"
     ]
    }
   ],
   "source": [
    "##decoder layer\n",
    "dec_inp = Input(shape=(100,))\n",
    "dec_out = a2(h2(dec_inp))\n",
    "decoder = Model(inputs=[dec_inp], outputs=[dec_out])\n",
    "\n",
    "decoder.summary()"
   ]
  },
  {
   "cell_type": "code",
   "execution_count": 14,
   "metadata": {},
   "outputs": [
    {
     "name": "stdout",
     "output_type": "stream",
     "text": [
      "(1000, 784)\n",
      "(1000, 100)\n"
     ]
    }
   ],
   "source": [
    "img_batch = ds.values[20000:21000, 1:]/255.0\n",
    "print(img_batch.shape)\n",
    "\n",
    "ex = encoder.predict(img_batch)\n",
    "print(ex.shape)"
   ]
  },
  {
   "cell_type": "code",
   "execution_count": 15,
   "metadata": {},
   "outputs": [
    {
     "name": "stdout",
     "output_type": "stream",
     "text": [
      "(1000, 784)\n"
     ]
    }
   ],
   "source": [
    "dx = decoder.predict(ex)\n",
    "print(dx.shape)"
   ]
  },
  {
   "cell_type": "code",
   "execution_count": 21,
   "metadata": {},
   "outputs": [
    {
     "name": "stdout",
     "output_type": "stream",
     "text": [
      "20692\n"
     ]
    },
    {
     "data": {
      "image/png": "[encoded data removed]",
      "text/plain": [
       "<Figure size 432x288 with 1 Axes>"
      ]
     },
     "metadata": {},
     "output_type": "display_data"
    },
    {
     "data": {
      "image/png": "[encoded data removed]",
      "text/plain": [
       "<Figure size 432x288 with 1 Axes>"
      ]
     },
     "metadata": {},
     "output_type": "display_data"
    }
   ],
   "source": [
    "n = np.random.randint(20000,21000)\n",
    "print(n)\n",
    "\n",
    "plt.imshow(ds.values[n,1:].reshape((28,28)), cmap='gray')\n",
    "plt.show()\n",
    "           \n",
    "plt.imshow(dx[n-20000].reshape((28,28)), cmap='gray')\n",
    "plt.show()"
   ]
  },
  {
   "cell_type": "code",
   "execution_count": null,
   "metadata": {},
   "outputs": [],
   "source": []
  },
  {
   "cell_type": "code",
   "execution_count": null,
   "metadata": {},
   "outputs": [],
   "source": []
  },
  {
   "cell_type": "code",
   "execution_count": null,
   "metadata": {},
   "outputs": [],
   "source": []
  },
  {
   "cell_type": "code",
   "execution_count": null,
   "metadata": {},
   "outputs": [],
   "source": []
  }
 ],
 "metadata": {
  "kernelspec": {
   "display_name": "Python 3",
   "language": "python",
   "name": "python3"
  },
  "language_info": {
   "codemirror_mode": {
    "name": "ipython",
    "version": 3
   },
   "file_extension": ".py",
   "mimetype": "text/x-python",
   "name": "python",
   "nbconvert_exporter": "python",
   "pygments_lexer": "ipython3",
   "version": "3.6.5"
  }
 },
 "nbformat": 4,
 "nbformat_minor": 2
}
